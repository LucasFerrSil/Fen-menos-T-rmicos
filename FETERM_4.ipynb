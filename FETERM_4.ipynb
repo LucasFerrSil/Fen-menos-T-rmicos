{
  "nbformat": 4,
  "nbformat_minor": 0,
  "metadata": {
    "colab": {
      "provenance": [],
      "include_colab_link": true
    },
    "kernelspec": {
      "name": "python3",
      "display_name": "Python 3"
    },
    "language_info": {
      "name": "python"
    }
  },
  "cells": [
    {
      "cell_type": "markdown",
      "metadata": {
        "id": "view-in-github",
        "colab_type": "text"
      },
      "source": [
        "<a href=\"https://colab.research.google.com/github/LucasFerrSil/Fenomenos-Termicos/blob/main/FETERM_4.ipynb\" target=\"_parent\"><img src=\"https://colab.research.google.com/assets/colab-badge.svg\" alt=\"Open In Colab\"/></a>"
      ]
    },
    {
      "cell_type": "code",
      "execution_count": null,
      "metadata": {
        "id": "9Wx49XYibCqI"
      },
      "outputs": [],
      "source": [
        "#MMQ\n",
        "\n",
        "#Incerteza do Y:\n",
        "\n",
        "def somav(v):\n",
        "  soma = 0\n",
        "  for i in range(len(v)):\n",
        "      valor = 1/((v[i][1])**2)\n",
        "      soma += valor\n",
        "  return soma\n",
        "\n",
        "def somx(x,y,valor):\n",
        "  soma = 0\n",
        "  for i in range(len(x)):\n",
        "      termo = x[i][0]/((y[i][1])**2)\n",
        "      soma += termo\n",
        "  soma = soma/valor\n",
        "  return soma\n",
        "\n",
        "def sox2(x,y,valor):\n",
        "  soma = 0\n",
        "  for i in range(len(x)):\n",
        "      termo = ((x[i][0])**2)/((y[i][1])**2)\n",
        "      soma += termo\n",
        "  soma = soma/valor\n",
        "  return soma\n",
        "\n",
        "def somay(x,y,valor):\n",
        "  soma = 0\n",
        "  for i in range(len(y)):\n",
        "      termo = (y[i][0])/((y[i][1])**2)\n",
        "      soma += termo\n",
        "  soma = soma/valor\n",
        "  return soma\n",
        "\n",
        "def somaxy(x,y,valor):\n",
        "  soma = 0\n",
        "  for i in range(len(x)):\n",
        "      termo = (x[i][0])*(y[i][0])/(y[i][1])**2\n",
        "      soma += termo\n",
        "  soma = soma/valor\n",
        "  return soma\n",
        "\n",
        "def a(somax,somay,somaxy,somax2,valor):\n",
        "  a = ((somax*somay) - somaxy)/((somax**2) - somax2)\n",
        "  t = abs(1/(valor*((somax2) - (somax**2))))\n",
        "  x = [a,t**(1/2)]\n",
        "  return x\n",
        "\n",
        "def b(somay,a,somax,somax2,valor):\n",
        "  b = somay - a[0]*somax\n",
        "  t = abs((somax2/valor)/((somax2) - (somax**2)))\n",
        "  x = [b,t**(1/2)]\n",
        "  return x\n",
        "\n",
        "def desviopadrao(vetor):\n",
        "    soma = 0\n",
        "    c = len(vetor)\n",
        "    for i in range(c):\n",
        "        soma += vetor[i][0]\n",
        "    media = soma/c\n",
        "    soma_dos_quadrados = 0\n",
        "    for i in range(c):\n",
        "        soma_dos_quadrados += (vetor[i][0] - media)**2\n",
        "    desvio = (soma_dos_quadrados/(c*(c - 1)))**(1/2)\n",
        "    x = [media,desvio]\n",
        "    return x\n",
        "\n",
        "def media(vetor):\n",
        "    soma = 0\n",
        "    for i in range(len(vetor)):\n",
        "        soma += vetor[i][0]\n",
        "    media = soma/len(vetor)\n",
        "    soma = 0\n",
        "    for i in range(len(vetor)):\n",
        "        soma += (vetor[i][1]**2)\n",
        "    incertezamedia = (soma**(1/2))/len(vetor)\n",
        "    x = [media,incertezamedia]\n",
        "    return x"
      ]
    },
    {
      "cell_type": "code",
      "source": [
        "tr = [[23,0.5],[23,0.5],[23,0.5],[23,0.5],[23,0.5],[23,0.5],[23,0.5]]\n",
        "trm = [23,0.5],[23,0.5],[23,0.5],[23,0.5],[23,0.5],[23,0.5],[23,0.5]\n",
        "tamb = [26,0.7],[27,0.7]\n",
        "r = [102.8,2],[102.9,2]\n",
        "rm = [103,2],[103,2],[103,2],[103,2],[103,2],[103,2],[103,2]\n",
        "tv = [10,4],[18,4],[24,4],[31,4],[38,4],[45,4],[52,5]\n",
        "v = [-0.0007,0.0004],[-0.0003,0.0004],[0,0.0004],[0.0002,0.0004],[0.0005,0.0004],[0.0009,0.0004],[0.0012,0.0004]\n",
        "c = [2],[2],[2],[2],[2],[2],[2]\n",
        "import pandas as pd\n",
        "dados = [ [trm[i][0] for i in range(len(trm))],\n",
        "          [trm[i][1] for i in range(len(trm))],\n",
        "          [rm[i][0] for i in range(len(rm))],\n",
        "          [rm[i][1] for i in range(len(rm))],\n",
        "          [tv[i][0] for i in range(len(tv))],\n",
        "          [tv[i][1] for i in range(len(tv))],\n",
        "          [v[i][0] for i in range(len(v))],\n",
        "          [v[i][1] for i in range(len(v))],\n",
        "          [2 for i in range(7)]]\n",
        "\n",
        "dados = pd.DataFrame(dados)\n",
        "print(dados)\n",
        "dados.to_excel(\"dados.xlsx\")\n"
      ],
      "metadata": {
        "id": "VsCMv2zlcPPk",
        "colab": {
          "base_uri": "https://localhost:8080/"
        },
        "outputId": "6ccdc3f8-b0d9-4e54-f1ac-4197861e4668"
      },
      "execution_count": null,
      "outputs": [
        {
          "output_type": "stream",
          "name": "stdout",
          "text": [
            "          0         1         2         3         4         5         6\n",
            "0   23.0000   23.0000   23.0000   23.0000   23.0000   23.0000   23.0000\n",
            "1    0.5000    0.5000    0.5000    0.5000    0.5000    0.5000    0.5000\n",
            "2  103.0000  103.0000  103.0000  103.0000  103.0000  103.0000  103.0000\n",
            "3    2.0000    2.0000    2.0000    2.0000    2.0000    2.0000    2.0000\n",
            "4   10.0000   18.0000   24.0000   31.0000   38.0000   45.0000   52.0000\n",
            "5    4.0000    4.0000    4.0000    4.0000    4.0000    4.0000    5.0000\n",
            "6   -0.0007   -0.0003    0.0000    0.0002    0.0005    0.0009    0.0012\n",
            "7    0.0004    0.0004    0.0004    0.0004    0.0004    0.0004    0.0004\n",
            "8    2.0000    2.0000    2.0000    2.0000    2.0000    2.0000    2.0000\n"
          ]
        }
      ]
    },
    {
      "cell_type": "code",
      "source": [
        "diferenca = lambda v1,v2:[(v1[0] - v2[0]),(v1[1]**2 + v2[1]**2)**(1/2)]\n",
        "elevar = lambda v,p:[v[0]**p[0],abs(p[0]*(v[0]**(p[0]-1))*v[1])]\n",
        "divisao = lambda v1,v2:((v1[1]/v2[0])**2 + (v1[0]*v2[1]/(v2[0]**2))**2 )**(1/2)\n",
        "potencia = lambda v2,rm:[v2[0]/rm[0],divisao(v2,rm)]\n",
        "carnot = lambda tv,tr: [1 - (tv[0]/tr[0])**(-1),divisao(tr,tv)] if(tv[0] > tr[0]) else [1 - (tv[0]/tr[0]),divisao(tv,tr)]\n",
        "potenciaconsumida = lambda p,e:[p[0]/e[0],divisao(p,e)]\n",
        "\n",
        "potencia1 = list(map(potencia,list(map(elevar,v,c)),rm))\n",
        "carnot1 = list(map(carnot,tv,trm))\n",
        "pq = list(map(potenciaconsumida,potencia1,carnot1))\n",
        "deltat = list(map(diferenca,tv,trm))\n",
        "\n",
        "y = [[0,0.02*0],[11,0.02*11],[19,0.02*19],[33,0.02*33],[42,0.02*42],[48,0.02*48],[60,0.02*60],[69,0.02*69]]\n",
        "x = [[0,0.05*0],[35/1000,0.05*35/1000],[65/1000,0.05*65/1000],[105/1000,0.05*105/1000],[140/1000,0.05*140/1000],[165/1000,0.05*165/1000],[0.2,0.05*0.2],[225/1000,0.05*225/1000]]\n",
        "valor = somav(y)\n",
        "somax = somx(x,y,valor)\n",
        "somax2 = sox2(x,y,valor)\n",
        "somay1 = somay(x,y,valor)\n",
        "somaxy1 = somaxy(x,y,valor)\n",
        "a1 = a(somax,somay1,somaxy1,somax2,valor)\n",
        "b1 = b(somay1,a1,somax,somax2,valor)"
      ],
      "metadata": {
        "id": "WTSMBorATuuy"
      },
      "execution_count": null,
      "outputs": []
    },
    {
      "cell_type": "code",
      "source": [
        "import matplotlib.pyplot as plt\n",
        "import numpy as np\n",
        "\n",
        "x = np.linspace(-15,30,100)\n",
        "y = []\n",
        "\n",
        "for i in range(len(x)):\n",
        "  y.append(a1[0]*x[i]+b1[0])\n",
        "\n",
        "plt.plot(x,y)\n",
        "for i in range(len(deltat)):\n",
        "  plt.plot(deltat[i][0],v[i][0],'ok')"
      ],
      "metadata": {
        "colab": {
          "base_uri": "https://localhost:8080/",
          "height": 777
        },
        "id": "m2Tys7kLrYST",
        "outputId": "9333e6be-2f3b-43d3-ae59-44c95d093d5e"
      },
      "execution_count": null,
      "outputs": [
        {
          "output_type": "stream",
          "name": "stdout",
          "text": [
            "[-15.         -14.54545455 -14.09090909 -13.63636364 -13.18181818\n",
            " -12.72727273 -12.27272727 -11.81818182 -11.36363636 -10.90909091\n",
            " -10.45454545 -10.          -9.54545455  -9.09090909  -8.63636364\n",
            "  -8.18181818  -7.72727273  -7.27272727  -6.81818182  -6.36363636\n",
            "  -5.90909091  -5.45454545  -5.          -4.54545455  -4.09090909\n",
            "  -3.63636364  -3.18181818  -2.72727273  -2.27272727  -1.81818182\n",
            "  -1.36363636  -0.90909091  -0.45454545   0.           0.45454545\n",
            "   0.90909091   1.36363636   1.81818182   2.27272727   2.72727273\n",
            "   3.18181818   3.63636364   4.09090909   4.54545455   5.\n",
            "   5.45454545   5.90909091   6.36363636   6.81818182   7.27272727\n",
            "   7.72727273   8.18181818   8.63636364   9.09090909   9.54545455\n",
            "  10.          10.45454545  10.90909091  11.36363636  11.81818182\n",
            "  12.27272727  12.72727273  13.18181818  13.63636364  14.09090909\n",
            "  14.54545455  15.          15.45454545  15.90909091  16.36363636\n",
            "  16.81818182  17.27272727  17.72727273  18.18181818  18.63636364\n",
            "  19.09090909  19.54545455  20.          20.45454545  20.90909091\n",
            "  21.36363636  21.81818182  22.27272727  22.72727273  23.18181818\n",
            "  23.63636364  24.09090909  24.54545455  25.          25.45454545\n",
            "  25.90909091  26.36363636  26.81818182  27.27272727  27.72727273\n",
            "  28.18181818  28.63636364  29.09090909  29.54545455  30.        ]\n"
          ]
        },
        {
          "output_type": "display_data",
          "data": {
            "text/plain": [
              "<Figure size 640x480 with 1 Axes>"
            ],
            "image/png": "[encoded data removed]"
          },
          "metadata": {}
        }
      ]
    },
    {
      "cell_type": "code",
      "source": [
        "y = [[0,0.01],[11,0.02*11],[19,0.02*19],[33,0.02*33],[42,0.02*42],[48,0.02*48],[60,0.02*60],[69,0.02*69]]\n",
        "x = [[0,0.01],[35/1000,0.05*35/1000],[65/1000,0.05*65/1000],[105/1000,0.05*105/1000],[140/1000,0.05*140/1000],[165/1000,0.05*165/1000],[0.2,0.05*0.2],[225/1000,0.05*225/1000]]\n",
        "valor = somav(y)\n",
        "somax = somx(x,y,valor)\n",
        "somax2 = sox2(x,y,valor)\n",
        "somay1 = somay(x,y,valor)\n",
        "somaxy1 = somaxy(x,y,valor)\n",
        "a1 = a(somax,somay1,somaxy1,somax2,valor)\n",
        "b1 = b(somay1,a1,somax,somax2,valor)\n",
        "\n",
        "print(a1,b1)"
      ],
      "metadata": {
        "colab": {
          "base_uri": "https://localhost:8080/"
        },
        "id": "Escj6qiCXqFZ",
        "outputId": "216cb502-19e2-41af-dd15-13128577ac44"
      },
      "execution_count": null,
      "outputs": [
        {
          "output_type": "stream",
          "name": "stdout",
          "text": [
            "[302.11783616438817, 2.2873043224277723] [0.0005115310137377704, 0.009994159684295725]\n"
          ]
        }
      ]
    }
  ]
}