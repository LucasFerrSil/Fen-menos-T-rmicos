{
  "nbformat": 4,
  "nbformat_minor": 0,
  "metadata": {
    "colab": {
      "provenance": [],
      "include_colab_link": true
    },
    "kernelspec": {
      "name": "python3",
      "display_name": "Python 3"
    },
    "language_info": {
      "name": "python"
    }
  },
  "cells": [
    {
      "cell_type": "markdown",
      "metadata": {
        "id": "view-in-github",
        "colab_type": "text"
      },
      "source": [
        "<a href=\"https://colab.research.google.com/github/LucasFerrSil/Fenomenos-Termicos/blob/main/FETERM_1.ipynb\" target=\"_parent\"><img src=\"https://colab.research.google.com/assets/colab-badge.svg\" alt=\"Open In Colab\"/></a>"
      ]
    },
    {
      "cell_type": "code",
      "execution_count": null,
      "metadata": {
        "id": "dl62rP3LOE34"
      },
      "outputs": [],
      "source": [
        "def desviopadrao(vetor):\n",
        "    soma = 0\n",
        "    c = len(vetor)\n",
        "    for i in range(c):\n",
        "        soma += vetor[i][0]\n",
        "    media = soma/c\n",
        "    soma_dos_quadrados = 0\n",
        "    for i in range(c):\n",
        "        soma_dos_quadrados += (vetor[i][0] - media)**2\n",
        "    desvio = (soma_dos_quadrados/(c*(c - 1)))**(1/2)\n",
        "    x = [media,desvio]\n",
        "    return x\n",
        "\n",
        "def media(vetor):\n",
        "    soma = 0\n",
        "    for i in range(len(vetor)):\n",
        "        soma += vetor[i][0]\n",
        "    media = soma/len(vetor)\n",
        "    soma = 0\n",
        "    for i in range(len(vetor)):\n",
        "        soma += (vetor[i][1]**2)\n",
        "    incertezamedia = (soma**(1/2))\n",
        "    x = [media,incertezamedia]\n",
        "    return x"
      ]
    },
    {
      "cell_type": "code",
      "source": [
        "def volume(diametro,altura):\n",
        "    import numpy as np\n",
        "    v = (np.pi*(diametro[0]**2)*altura[0])/4\n",
        "    soma = ((diametro[0]**2)*(altura[1]**2))/4+(altura[0]*diametro[1])**2\n",
        "    incv = (np.pi*diametro[0]*((soma)**(1/2)))/2\n",
        "    x = [v,incv]\n",
        "    return x\n",
        "\n",
        "def elevar(v,p):\n",
        "  valor = (v[0])**p\n",
        "  incv = abs(p*(v[0]**(p-1))*v[1])\n",
        "  x = [valor,incv]\n",
        "  return x\n",
        "\n",
        "def mols(t,produto):\n",
        "  R = 8.31\n",
        "  n = produto[0]/(R*t[0])\n",
        "  a = (produto[1]/(R*t[0]))**2\n",
        "  b = (t[1]*produto[0]/(R*(t[0]**2)))**2\n",
        "  incn = (a+b)**(1/2)\n",
        "  x = [n,incn]\n",
        "  return x\n",
        "\n",
        "def produtopv(pman,b,v):\n",
        "  produto = []\n",
        "  patm = abs(b[0])*9.81*10000\n",
        "  incpatm = b[1]*9.81*10000\n",
        "  for i in range(len(pman)):\n",
        "    x = []\n",
        "    valor = (pman[i][0]*9.81*10000 +patm)*(v[i][0]/1000000)\n",
        "    x.append(valor)\n",
        "    incv = (((v[i][1]/1000000)**2)*((pman[i][0]*9.81*10000+patm)**2)+( (v[i][0]/1000000)**2)*( (incpatm**2) + (pman[i][1]*9.81*10000)**2) )**(1/2)\n",
        "    x.append(incv)\n",
        "    produto.append(x)\n",
        "  return produto\n",
        "\n",
        "#MMQ\n",
        "\n",
        "#Incerteza do Y:\n",
        "\n",
        "def somav(v):\n",
        "  soma = 0\n",
        "  for i in range(len(v)):\n",
        "      valor = 1/((v[i][1])**2)\n",
        "      soma += valor\n",
        "  return soma\n",
        "\n",
        "def somax(x,y,valor):\n",
        "  soma = 0\n",
        "  for i in range(len(x)):\n",
        "      termo = x[i][0]/((y[i][1])**2)\n",
        "      soma += termo\n",
        "  soma = soma/valor\n",
        "  return soma\n",
        "\n",
        "def sox2(x,y,valor):\n",
        "  soma = 0\n",
        "  for i in range(len(x)):\n",
        "      termo = ((x[i][0])**2)/((y[i][1])**2)\n",
        "      soma += termo\n",
        "  soma = soma/valor\n",
        "  return soma\n",
        "\n",
        "def somay(x,y,valor):\n",
        "  soma = 0\n",
        "  for i in range(len(y)):\n",
        "      termo = (y[i][0])/((y[i][1])**2)\n",
        "      soma += termo\n",
        "  soma = soma/valor\n",
        "  return soma\n",
        "\n",
        "def somaxy(x,y,valor):\n",
        "  soma = 0\n",
        "  for i in range(len(x)):\n",
        "      termo = (x[i][0])*(y[i][0])/(y[i][1])**2\n",
        "      soma += termo\n",
        "  soma = soma/valor\n",
        "  return soma\n",
        "\n",
        "def a(somax,somay,somaxy,somax2,valor):\n",
        "  a = ((somax*somay) - somaxy)/((somax**2) - somax2)\n",
        "  t = abs(1/(valor*((somax2) - (somax**2))))\n",
        "  x = [a,t**(1/2)]\n",
        "  return x\n",
        "\n",
        "def b(somay,a,somax,somax2,valor):\n",
        "  b = somay - a[0]*somax\n",
        "  t = abs((somax2/valor)/((somax2) - (somax**2)))\n",
        "  x = [b,t**(1/2)]\n",
        "  return x\n",
        "\n",
        "'''Incerteza do x:\n",
        "def somaxn(x,y,valor):\n",
        "  soma = 0\n",
        "  for i in range(len(x)):\n",
        "      termo = x[i][0]/((x[i][1])**2)\n",
        "      soma += termo\n",
        "  soma = soma/valor\n",
        "  return soma\n",
        "\n",
        "def sox2n(x,y,valor):\n",
        "  soma = 0\n",
        "  for i in range(len(x)):\n",
        "      termo = (x[i][0])**2/((x[i][1])**2)\n",
        "      soma += termo\n",
        "  soma = soma/valor\n",
        "  return soma\n",
        "\n",
        "def somayn(x,y,valor):\n",
        "  soma = 0\n",
        "  for i in range(len(y)):\n",
        "      termo = y[i][0]/(x[i][1])**2\n",
        "      soma += termo\n",
        "  soma = soma/valor\n",
        "  return soma\n",
        "\n",
        "def somaxyn(x,y,valor):\n",
        "  soma = 0\n",
        "  for i in range(len(x)):\n",
        "      termo = x[i][0]*y[i][0]/(x[i][1])**2\n",
        "      soma += termo\n",
        "  soma = soma/valor\n",
        "  return soma\n",
        "'''"
      ],
      "metadata": {
        "id": "o13U6NyfWxGT",
        "colab": {
          "base_uri": "https://localhost:8080/",
          "height": 73
        },
        "outputId": "f3a1f5fd-f350-4ffa-df58-d96c79279e82"
      },
      "execution_count": null,
      "outputs": [
        {
          "output_type": "execute_result",
          "data": {
            "text/plain": [
              "'Incerteza do x:\\ndef somaxn(x,y,valor):\\n  soma = 0\\n  for i in range(len(x)):\\n      termo = x[i][0]/((x[i][1])**2)\\n      soma += termo\\n  soma = soma/valor\\n  return soma\\n\\ndef sox2n(x,y,valor):\\n  soma = 0\\n  for i in range(len(x)):\\n      termo = (x[i][0])**2/((x[i][1])**2)\\n      soma += termo\\n  soma = soma/valor\\n  return soma\\n\\ndef somayn(x,y,valor):\\n  soma = 0\\n  for i in range(len(y)):\\n      termo = y[i][0]/(x[i][1])**2\\n      soma += termo\\n  soma = soma/valor\\n  return soma\\n\\ndef somaxyn(x,y,valor):\\n  soma = 0\\n  for i in range(len(x)):\\n      termo = x[i][0]*y[i][0]/(x[i][1])**2\\n      soma += termo\\n  soma = soma/valor\\n  return soma\\n'"
            ],
            "application/vnd.google.colaboratory.intrinsic+json": {
              "type": "string"
            }
          },
          "metadata": {},
          "execution_count": 2
        }
      ]
    },
    {
      "cell_type": "code",
      "source": [],
      "metadata": {
        "id": "v2q7tZ2TnEMj"
      },
      "execution_count": null,
      "outputs": []
    },
    {
      "cell_type": "code",
      "source": [
        "pman = [[0.0,0.01],[0.0,0.01],[0.0,0.01],[0.10,0.01],[0.18,0.01],[0.27,0.01],[0.6,0.01],[0.7,0.01],[0.8,0.01]]\n",
        "h = [[13.4,0.05],[11.3,0.05],[10.7,0.05],[10.5,0.05],[10.1,0.05],[9.7,0.05],[8.2,0.05],[7.7,0.05],[7.3,0.05]]\n",
        "t = [23+273.15,0.5]\n",
        "d1 = [34.00,0.01]\n",
        "#d2 = [34.81,0.01]\n",
        "\n",
        "for i in range(len(d1)):\n",
        "  d1[i] = d1[i]/10\n",
        "#  d2[i] = d2[i]/10\n",
        "\n",
        "v1 = []\n",
        "#v2 = []\n",
        "inv1 = []\n",
        "#inv2 = []\n",
        "\n",
        "for i in range(len(h)):\n",
        "  v1.append(volume(d1,h[i]))\n",
        "  #v2.append(volume(d2,h[i]))\n",
        "\n",
        "#for i in range(len(v1)):\n",
        "#  v1[i] = v1[i] + 9.5\n",
        "#  v2[i] = v2[i] + 9.5\n",
        "\n",
        "for i in range(len(v1)):\n",
        " inv1.append(elevar(v1[i],-1))\n",
        " #inv2.append(elevar(v2[i],-1))\n",
        "\n",
        "for i in range(len(inv1)):\n",
        "  for j in range(len(inv1[0])):\n",
        "    inv1[i][j] = inv1[i][j]*100\n",
        "    #inv2[i][j] = inv2[i][j]*100\n"
      ],
      "metadata": {
        "id": "JY6krtchHMve"
      },
      "execution_count": null,
      "outputs": []
    },
    {
      "cell_type": "code",
      "source": [
        "#Incerteza do Y\n",
        "valor = somav(pman)\n",
        "somax1 = somax(inv1,pman,valor)\n",
        "somax21 = sox2(inv1,pman,valor)\n",
        "somay1 = somay(inv1,pman,valor)\n",
        "somaxy1 = somaxy(inv1,pman,valor)\n",
        "a1 = a(somax1,somay1,somaxy1,somax21,valor)\n",
        "b1 = b(somay1,a1,somax1,somax21,valor)\n",
        "\n",
        "'''valor = somav(pman)\n",
        "somax2 = somax(inv2,pman,valor)\n",
        "somax22 = sox2(inv2,pman,valor)\n",
        "somay2 = somay(inv2,pman,valor)\n",
        "somaxy2 = somaxy(inv2,pman,valor)\n",
        "a2 = a(somax2,somay2,somaxy2,somax22,valor)\n",
        "b2 = b(somay2,a2,somax2,somax22,valor)\n",
        "'''"
      ],
      "metadata": {
        "id": "cAAt6yYy11Cz",
        "colab": {
          "base_uri": "https://localhost:8080/",
          "height": 36
        },
        "outputId": "3b9007cb-6bf6-4b42-d7aa-caa6e8c2c754"
      },
      "execution_count": null,
      "outputs": [
        {
          "output_type": "execute_result",
          "data": {
            "text/plain": [
              "'valor = somav(pman)\\nsomax2 = somax(inv2,pman,valor)\\nsomax22 = sox2(inv2,pman,valor)\\nsomay2 = somay(inv2,pman,valor)\\nsomaxy2 = somaxy(inv2,pman,valor)\\na2 = a(somax2,somay2,somaxy2,somax22,valor)\\nb2 = b(somay2,a2,somax2,somax22,valor)\\n'"
            ],
            "application/vnd.google.colaboratory.intrinsic+json": {
              "type": "string"
            }
          },
          "metadata": {},
          "execution_count": 4
        }
      ]
    },
    {
      "cell_type": "code",
      "source": [
        "'''Incerteza do X\n",
        "valor1 = somav(inv1)\n",
        "somax1n = somaxn(inv1,pman,valor1)\n",
        "somax21n = sox2n(inv1,pman,valor1)\n",
        "somay1n = somayn(inv1,pman,valor1)\n",
        "somaxy1n = somaxyn(inv1,pman,valor1)\n",
        "a1n = a(somax1n,somay1n,somaxy1n,somax21n,valor1)\n",
        "b1n = b(somay1n,a1n,somax1n,somax21n,valor1)\n",
        "\n",
        "valor2 = somav(inv2)\n",
        "somax2n = somaxn(inv2,pman,valor2)\n",
        "somax22n = sox2n(inv2,pman,valor2)\n",
        "somay2n = somayn(inv2,pman,valor2)\n",
        "somaxy2n = somaxyn(inv2,pman,valor2)\n",
        "a2n = a(somax2n,somay2n,somaxy2n,somax22n,valor2)\n",
        "b2n = b(somay2n,a2n,somax2n,somax22n,valor2)\n",
        "'''"
      ],
      "metadata": {
        "id": "ym7Bf-sm3QMZ",
        "colab": {
          "base_uri": "https://localhost:8080/",
          "height": 73
        },
        "outputId": "52e40d4d-8f4a-46fe-df88-44ab5dac8ac4"
      },
      "execution_count": null,
      "outputs": [
        {
          "output_type": "execute_result",
          "data": {
            "text/plain": [
              "'Incerteza do X\\nvalor1 = somav(inv1)\\nsomax1n = somaxn(inv1,pman,valor1)\\nsomax21n = sox2n(inv1,pman,valor1)\\nsomay1n = somayn(inv1,pman,valor1)\\nsomaxy1n = somaxyn(inv1,pman,valor1)\\na1n = a(somax1n,somay1n,somaxy1n,somax21n,valor1)\\nb1n = b(somay1n,a1n,somax1n,somax21n,valor1)\\n\\nvalor2 = somav(inv2)\\nsomax2n = somaxn(inv2,pman,valor2)\\nsomax22n = sox2n(inv2,pman,valor2)\\nsomay2n = somayn(inv2,pman,valor2)\\nsomaxy2n = somaxyn(inv2,pman,valor2)\\na2n = a(somax2n,somay2n,somaxy2n,somax22n,valor2)\\nb2n = b(somay2n,a2n,somax2n,somax22n,valor2)\\n'"
            ],
            "application/vnd.google.colaboratory.intrinsic+json": {
              "type": "string"
            }
          },
          "metadata": {},
          "execution_count": 5
        }
      ]
    },
    {
      "cell_type": "code",
      "source": [
        "produto1 = produtopv(pman,b1,v1)\n",
        "#produto2 = produtopv(pman,b2,v2)\n",
        "#produto1n = produtopv(pman,b1n,v1)\n",
        "#produto2n = produtopv(pman,b2n,v2)\n",
        "\n",
        "produtom1 = media(produto1)\n",
        "#produtom2 = media(produto2)\n",
        "#produtom1n = media(produto1n)\n",
        "#produtom2n = media(produto2n)\n"
      ],
      "metadata": {
        "id": "3QloCWFEleCz"
      },
      "execution_count": null,
      "outputs": []
    },
    {
      "cell_type": "code",
      "source": [
        "n1 = mols(t,produtom1)\n",
        "#n2 = mols(t,produtom2)\n",
        "#n1n = mols(t,produtom1n)\n",
        "#n2n = mols(t,produtom2n)"
      ],
      "metadata": {
        "id": "jzMsnwtGo_2k"
      },
      "execution_count": null,
      "outputs": []
    },
    {
      "cell_type": "code",
      "source": [
        "print(f\"Somatório de 1/incerteza^2: {valor}\\nSomatório de x/incerteza^2: {somax1:.4f}\\nSomatório de x^2/incerteza^2: {somax21:.4f}\\nSomatório de y/incerteza^2: {somay1:.4f}\\nSomatório de xy/incerteza^2: {somaxy1:.4f}\")"
      ],
      "metadata": {
        "colab": {
          "base_uri": "https://localhost:8080/"
        },
        "id": "ObqEgODzFseu",
        "outputId": "f9eecf1d-1fb5-4b3b-96ee-cb20d8bb237d"
      },
      "execution_count": null,
      "outputs": [
        {
          "output_type": "stream",
          "name": "stdout",
          "text": [
            "Somatório de 1/incerteza^2: 90000.0\n",
            "Somatório de x/incerteza^2: 1.1537\n",
            "Somatório de x^2/incerteza^2: 1.3768\n",
            "Somatório de y/incerteza^2: 0.4044\n",
            "Somatório de xy/incerteza^2: 0.5171\n"
          ]
        }
      ]
    },
    {
      "cell_type": "code",
      "source": [
        "print(a1,b1)"
      ],
      "metadata": {
        "id": "iUhIFT2rHCjV",
        "outputId": "b772a055-ebe4-4e73-94fc-d6e902e290c8",
        "colab": {
          "base_uri": "https://localhost:8080/"
        }
      },
      "execution_count": null,
      "outputs": [
        {
          "output_type": "stream",
          "name": "stdout",
          "text": [
            "[1.10349871596189, 0.015590495078178446] [-0.8686727659909987, 0.018293165287078566]\n"
          ]
        }
      ]
    },
    {
      "cell_type": "code",
      "source": [],
      "metadata": {
        "id": "V553UaPeugLT"
      },
      "execution_count": null,
      "outputs": []
    }
  ]
}