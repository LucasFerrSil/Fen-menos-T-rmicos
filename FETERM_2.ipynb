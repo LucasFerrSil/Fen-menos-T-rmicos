{
  "nbformat": 4,
  "nbformat_minor": 0,
  "metadata": {
    "colab": {
      "provenance": [],
      "include_colab_link": true
    },
    "kernelspec": {
      "name": "python3",
      "display_name": "Python 3"
    },
    "language_info": {
      "name": "python"
    }
  },
  "cells": [
    {
      "cell_type": "markdown",
      "metadata": {
        "id": "view-in-github",
        "colab_type": "text"
      },
      "source": [
        "<a href=\"https://colab.research.google.com/github/LucasFerrSil/Fenomenos-Termicos/blob/main/FETERM_2.ipynb\" target=\"_parent\"><img src=\"https://colab.research.google.com/assets/colab-badge.svg\" alt=\"Open In Colab\"/></a>"
      ]
    },
    {
      "cell_type": "code",
      "execution_count": null,
      "metadata": {
        "id": "sqt4VCShHv0s"
      },
      "outputs": [],
      "source": [
        "#MMQ\n",
        "\n",
        "#Incerteza do Y:\n",
        "\n",
        "def somav(v):\n",
        "  soma = 0\n",
        "  for i in range(len(v)):\n",
        "      valor = 1/((v[i][1])**2)\n",
        "      soma += valor\n",
        "  return soma\n",
        "\n",
        "def somax(x,y,valor):\n",
        "  soma = 0\n",
        "  for i in range(len(x)):\n",
        "      termo = x[i][0]/((y[i][1])**2)\n",
        "      soma += termo\n",
        "  soma = soma/valor\n",
        "  return soma\n",
        "\n",
        "def sox2(x,y,valor):\n",
        "  soma = 0\n",
        "  for i in range(len(x)):\n",
        "      termo = ((x[i][0])**2)/((y[i][1])**2)\n",
        "      soma += termo\n",
        "  soma = soma/valor\n",
        "  return soma\n",
        "\n",
        "def somay(x,y,valor):\n",
        "  soma = 0\n",
        "  for i in range(len(y)):\n",
        "      termo = (y[i][0])/((y[i][1])**2)\n",
        "      soma += termo\n",
        "  soma = soma/valor\n",
        "  return soma\n",
        "\n",
        "def somaxy(x,y,valor):\n",
        "  soma = 0\n",
        "  for i in range(len(x)):\n",
        "      termo = (x[i][0])*(y[i][0])/(y[i][1])**2\n",
        "      soma += termo\n",
        "  soma = soma/valor\n",
        "  return soma\n",
        "\n",
        "def a(somax,somay,somaxy,somax2,valor):\n",
        "  a = ((somax*somay) - somaxy)/((somax**2) - somax2)\n",
        "  t = abs(1/(valor*((somax2) - (somax**2))))\n",
        "  x = [a,t**(1/2)]\n",
        "  return x\n",
        "\n",
        "def b(somay,a,somax,somax2,valor):\n",
        "  b = somay - a[0]*somax\n",
        "  t = abs((somax2/valor)/((somax2) - (somax**2)))\n",
        "  x = [b,t**(1/2)]\n",
        "  return x"
      ]
    },
    {
      "cell_type": "code",
      "source": [
        "def desviopadrao(vetor):\n",
        "    soma = 0\n",
        "    c = len(vetor)\n",
        "    for i in range(c):\n",
        "        soma += vetor[i][0]\n",
        "    media = soma/c\n",
        "    soma_dos_quadrados = 0\n",
        "    for i in range(c):\n",
        "        soma_dos_quadrados += (vetor[i][0] - media)**2\n",
        "    desvio = (soma_dos_quadrados/(c*(c - 1)))**(1/2)\n",
        "    x = [media,desvio]\n",
        "    return x\n",
        "\n",
        "def media(vetor):\n",
        "    soma = 0\n",
        "    for i in range(len(vetor)):\n",
        "        soma += vetor[i][0]\n",
        "    media = soma/len(vetor)\n",
        "    soma = 0\n",
        "    for i in range(len(vetor)):\n",
        "        soma += (vetor[i][1]**2)\n",
        "    incertezamedia = (soma**(1/2))/len(vetor)\n",
        "    x = [media,incertezamedia]\n",
        "    return x\n",
        "\n",
        "def elevar(v,p):\n",
        "  a = []\n",
        "  for i in range(len(v)):\n",
        "    valor = (v[i][0])**p\n",
        "    incv = abs(p*(v[i][0]**(p-1))*v[i][1])\n",
        "    x = [valor,incv]\n",
        "    a.append(x)\n",
        "  return a\n",
        "\n",
        "def logaritmo(v,v0):\n",
        "  import numpy as np\n",
        "  a = []\n",
        "  for i in range(len(v)):\n",
        "    x = []\n",
        "    valor = np.log((v[i][0])/v0[0])\n",
        "    x.append(valor)\n",
        "    incln = abs(v[i][1]/v[i][0])\n",
        "    x.append(incln)\n",
        "    a.append(x)\n",
        "  return a"
      ],
      "metadata": {
        "id": "I3noRPleIQFL"
      },
      "execution_count": null,
      "outputs": []
    },
    {
      "cell_type": "code",
      "source": [
        "t0 = [23,0.5]\n",
        "r0 = [5.7,0.1]\n",
        "t = [[65,0.5],[60,0.5],[55,0.5],[50,0.5],[45,0.5],[40,0.5],[35,0.5],[30,0.5],[25,0.5],[20,0.5]]\n",
        "r = [[1.27,0.02],[1.44,0.02],[1.75,0.02],[2.16,0.03],[2.54,0.03],[2.96,0.04],[3.62,0.05],[4.18,0.09],[5.2,0.1],[6.3,0.1]]\n",
        "\n",
        "for i in range(len(t)):\n",
        "  t[i][0] += 273\n",
        "print(t)\n",
        "print(r)\n",
        "t = elevar(t,-1)\n",
        "r = logaritmo(r,r0)\n",
        "print(t)\n",
        "print(r)"
      ],
      "metadata": {
        "id": "MUL3nE-cI83x",
        "colab": {
          "base_uri": "https://localhost:8080/"
        },
        "outputId": "fb6fbd45-dd09-4ff0-8209-76fabdab77ee"
      },
      "execution_count": null,
      "outputs": [
        {
          "output_type": "stream",
          "name": "stdout",
          "text": [
            "[[338, 0.5], [333, 0.5], [328, 0.5], [323, 0.5], [318, 0.5], [313, 0.5], [308, 0.5], [303, 0.5], [298, 0.5], [293, 0.5]]\n",
            "[[1.27, 0.02], [1.44, 0.02], [1.75, 0.02], [2.16, 0.03], [2.54, 0.03], [2.96, 0.04], [3.62, 0.05], [4.18, 0.09], [5.2, 0.1], [6.3, 0.1]]\n",
            "[[0.0029585798816568047, 4.3765974580721965e-06], [0.003003003003003003, 4.509013518022527e-06], [0.003048780487804878, 4.647531231409875e-06], [0.0030959752321981426, 4.792531319192171e-06], [0.0031446540880503146, 4.944424666745778e-06], [0.003194888178913738, 5.103655237881371e-06], [0.003246753246753247, 5.2707033226513745e-06], [0.0033003300330033004, 5.446089163371783e-06], [0.003355704697986577, 5.630377010044593e-06], [0.0034129692832764505, 5.824179664294284e-06]]\n",
            "[[-1.5014492743700045, 0.015748031496062992], [-1.3758230612525952, 0.01388888888888889], [-1.1808503869050817, 0.011428571428571429], [-0.9703579531444309, 0.013888888888888888], [-0.8083020938100592, 0.011811023622047244], [-0.6552769065045355, 0.013513513513513514], [-0.4539921490028248, 0.013812154696132598], [-0.3101549283038396, 0.0215311004784689], [-0.09180754925312286, 0.019230769230769232], [0.10008345855698243, 0.015873015873015876]]\n"
          ]
        }
      ]
    },
    {
      "cell_type": "code",
      "source": [
        "valor = somav(t)\n",
        "somax = somax(r,t,valor)\n",
        "somax2 = sox2(r,t,valor)\n",
        "somay = somay(r,t,valor)\n",
        "somaxy = somaxy(r,t,valor)\n",
        "a = a(somax,somay,somaxy,somax2,valor)\n",
        "b = b(somay,a,somax,somax2,valor)\n",
        "\n",
        "print (a)\n",
        "print (b)\n"
      ],
      "metadata": {
        "id": "OMXDT1-VHIgh",
        "colab": {
          "base_uri": "https://localhost:8080/"
        },
        "outputId": "c18aee27-68b0-45d6-9059-faf480aef674"
      },
      "execution_count": null,
      "outputs": [
        {
          "output_type": "stream",
          "name": "stdout",
          "text": [
            "[0.0002809442456694949, 3.119435036379213e-06]\n",
            "[0.0033796958388264894, 2.9986197853928103e-06]\n"
          ]
        }
      ]
    },
    {
      "cell_type": "code",
      "source": [
        "import matplotlib.pyplot as plt\n",
        "import numpy as np\n",
        "\n",
        "plt.figure()\n",
        "for i in range(len(r)):\n",
        "  plt.errorbar(r[i][0],t[i][0],yerr=t[i][1],xerr=r[i][1],fmt=\"k.\")\n",
        "plt.grid()\n",
        "\n",
        "x = np.linspace(-1.6,0.2)\n",
        "y = a[0]*x+b[0]\n",
        "plt.plot(x,y,'gray')"
      ],
      "metadata": {
        "colab": {
          "base_uri": "https://localhost:8080/",
          "height": 447
        },
        "id": "EwBHpVdA8_Ct",
        "outputId": "e2edaa5a-7b0d-4f94-f110-62a6a405c9a0"
      },
      "execution_count": null,
      "outputs": [
        {
          "output_type": "execute_result",
          "data": {
            "text/plain": [
              "[<matplotlib.lines.Line2D at 0x7fb4fbb2b370>]"
            ]
          },
          "metadata": {},
          "execution_count": 13
        },
        {
          "output_type": "display_data",
          "data": {
            "text/plain": [
              "<Figure size 640x480 with 1 Axes>"
            ],
            "image/png": "[encoded data removed]"
          },
          "metadata": {}
        }
      ]
    },
    {
      "cell_type": "code",
      "source": [],
      "metadata": {
        "id": "IcAEXxJXXlec"
      },
      "execution_count": null,
      "outputs": []
    }
  ]
}