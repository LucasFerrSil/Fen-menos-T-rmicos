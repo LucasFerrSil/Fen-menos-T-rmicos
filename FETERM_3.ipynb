{
  "nbformat": 4,
  "nbformat_minor": 0,
  "metadata": {
    "colab": {
      "provenance": [],
      "include_colab_link": true
    },
    "kernelspec": {
      "name": "python3",
      "display_name": "Python 3"
    },
    "language_info": {
      "name": "python"
    }
  },
  "cells": [
    {
      "cell_type": "markdown",
      "metadata": {
        "id": "view-in-github",
        "colab_type": "text"
      },
      "source": [
        "<a href=\"https://colab.research.google.com/github/LucasFerrSil/Fenomenos-Termicos/blob/main/FETERM_3.ipynb\" target=\"_parent\"><img src=\"https://colab.research.google.com/assets/colab-badge.svg\" alt=\"Open In Colab\"/></a>"
      ]
    },
    {
      "cell_type": "code",
      "execution_count": null,
      "metadata": {
        "id": "_XNMRZEGTuN4"
      },
      "outputs": [],
      "source": [
        "def diferenca(v1,v2):\n",
        "  m = []\n",
        "  for i in range(len(v1)):\n",
        "    x = []\n",
        "    valor = (v1[i][0] - v2[i][0])\n",
        "    inc = v1[i][1]**2 + v2[i][1]**2\n",
        "    x = [valor,inc**(1/2)]\n",
        "    m.append(x)\n",
        "  return m\n",
        "\n",
        "def capacidade(ma,deltata,mq,deltatq,ca):\n",
        "  m = []\n",
        "  for i in range(len(ma)):\n",
        "    x = []\n",
        "    valor = ((ma[i][0]*deltata[i][0] + mq[i][0]*deltatq[i][0])*(-ca))/deltata[i][0]\n",
        "    a = (ma[i][1]*ca)**2\n",
        "    b = (mq[i][1]*ca*deltatq[i][0]/deltata[i][0])**2\n",
        "    c = (deltatq[i][1]*ca*mq[i][0]/deltata[i][0])**2\n",
        "    d = (deltata[i][1]*ca*mq[i][0]*deltatq[i][0]/(deltata[i][0])**2)**2\n",
        "    inc = (a+b+c+d)**(1/2)\n",
        "    x = [valor, inc]\n",
        "    m.append(x)\n",
        "  return m\n",
        "\n",
        "def calorespecifico(ma,deltata,mm,deltatq,capac,ca):\n",
        "  m = []\n",
        "  for i in range(len(ma)):\n",
        "    x = []\n",
        "    valor = (-deltata[i][0])*(capac[0] + ma[i][0]*ca)/(mm[0]*deltatq[i][0])\n",
        "    a = (capac[1]*deltata[i][0]/(mm[0]*deltatq[i][0]))**2\n",
        "    b = (ma[i][1]*ca*deltata[i][0]/(mm[0]*deltatq[i][0]))**2\n",
        "    c = (deltata[i][1]*(capac[0]+ma[i][0]*ca)/(mm[0]*deltatq[i][0]))**2\n",
        "    d = ((deltata[i][0]*mm[1])*(capac[0] + ma[i][0]*ca)/((mm[0]**2)*deltatq[i][0]))**2\n",
        "    e = ((deltata[i][0]*deltatq[i][1])*(capac[0] + ma[i][0]*ca)/((deltatq[i][0]**2)*mm[0]))**2\n",
        "    inc = (a+b+c+d+e)**(1/2)\n",
        "    x = [valor, inc]\n",
        "    m.append(x)\n",
        "  return m\n",
        "\n",
        "def mediam(vetor):\n",
        "    soma = 0\n",
        "    for i in range(len(vetor)):\n",
        "        soma += vetor[i][0]\n",
        "    media = soma/len(vetor)\n",
        "    soma = 0\n",
        "    for i in range(len(vetor)):\n",
        "        soma += (vetor[i][1]**2)\n",
        "    incertezamedia = (soma**(1/2))/len(vetor)\n",
        "    x = [media,incertezamedia]\n",
        "    return x\n",
        "\n",
        "def desviopadrao(vetor):\n",
        "    soma = 0\n",
        "    c = len(vetor)\n",
        "    for i in range(c):\n",
        "        soma += vetor[i][0]\n",
        "    media = soma/c\n",
        "    soma_dos_quadrados = 0\n",
        "    for i in range(c):\n",
        "        soma_dos_quadrados += (vetor[i][0] - media)**2\n",
        "    desvio = (soma_dos_quadrados/(c*(c - 1)))**(1/2)\n",
        "    x = [media,desvio]\n",
        "    return x"
      ]
    },
    {
      "cell_type": "code",
      "source": [
        "mcal = [[133.00,0.1],[133.00,0.1],[133.00,0.1],[133.00,0.1]]\n",
        "m11 = [[234.39,0.1],[257.44,0.1],[203.71,0.1],[249.83,0.1]]\n",
        "ta1 = [[24,0.5],[24,0.5],[23.4,0.5],[22.5,0.5]]\n",
        "tq1 = [[90,0.5],[91,0.5],[90.5,0.5],[90.5,0.5]]\n",
        "tf1 = [[44,0.5],[43.5,0.5],[51.3,0.5],[45,0.5]]\n",
        "m21 = [[290.7,0.1],[317.9,0.1],[266.5,0.1],[317.8,0.1]]\n",
        "ca = 4.186\n",
        "\n",
        "ma1 = diferenca(m11,mcal)\n",
        "mq1 = diferenca(diferenca(m21,mcal),ma1)\n",
        "deltatq1 = diferenca(tf1,tq1)\n",
        "deltata1 = diferenca(tf1,ta1)\n",
        "capacidade1 = capacidade(ma1,deltata1,mq1,deltatq1,ca)\n",
        "mediacapacidade = desviopadrao(capacidade1)\n",
        "\n",
        "mm = [202.11,0.1]\n",
        "m12 = [[234.6,0.1],[267,0.1],[273.4,0.1],[264,0.1]]\n",
        "ta2 = [[24,0.5],[23,0.5],[22,0.5],[23,0.5]]\n",
        "tq2 = [[85,0.5],[83,0.5],[83,0.5],[85,0.5]]\n",
        "tf2 = [[33,0.5],[30.5,0.5],[29.5,0.5],[31.0,0.5]]\n",
        "\n",
        "ma2 = diferenca(m12,mcal)\n",
        "deltatq2 = diferenca(tf2,tq2)\n",
        "deltata2 = diferenca(tf2,ta2)\n",
        "calorespecifico1 = calorespecifico(ma2,deltata2,mm,deltatq2,mediacapacidade,ca)\n",
        "mediacalorespecifico = desviopadrao(calorespecifico1)\n",
        "print(mediacalorespecifico)\n",
        "for i in range(len(calorespecifico1)):\n",
        "  calorespecifico1[i][0] *= 1000\n",
        "  calorespecifico1[i][1] *= 1000\n",
        "\n",
        "for i in range(len(mediacalorespecifico)):\n",
        "  mediacalorespecifico[i] *= 1000\n",
        "print(calorespecifico1)\n",
        "print(mediacalorespecifico)"
      ],
      "metadata": {
        "id": "2X_kOuIgge_z",
        "colab": {
          "base_uri": "https://localhost:8080/"
        },
        "outputId": "5f185b42-9e62-46fb-dd5c-1f15802b48a4"
      },
      "execution_count": null,
      "outputs": [
        {
          "output_type": "stream",
          "name": "stdout",
          "text": [
            "[0.46225743522628865, 0.00643933944680262]\n",
            "[462.25743522628864, 6.439339446802619]\n",
            "[[444.04246772695694, 36.305328240669], [462.3758713759797, 44.53212781717907], [472.3156064824014, 45.43408748237369], [470.2957953198166, 42.58112782496437]]\n",
            "[462257.4352262886, 6439.339446802619]\n"
          ]
        }
      ]
    },
    {
      "cell_type": "code",
      "source": [
        "X = 0.45000000\n",
        "print(round(X,1))"
      ],
      "metadata": {
        "colab": {
          "base_uri": "https://localhost:8080/"
        },
        "id": "ZRkgpvpWtAHe",
        "outputId": "9d26d0b8-3b5b-4a98-b61a-975db7cd4d94"
      },
      "execution_count": null,
      "outputs": [
        {
          "output_type": "stream",
          "name": "stdout",
          "text": [
            "0.5\n"
          ]
        }
      ]
    },
    {
      "cell_type": "code",
      "source": [
        "print(ma1)"
      ],
      "metadata": {
        "colab": {
          "base_uri": "https://localhost:8080/"
        },
        "id": "ww2e7_1gnGQu",
        "outputId": "c4702cad-1ab8-4f66-a5fa-e6bf8b293c15"
      },
      "execution_count": null,
      "outputs": [
        {
          "output_type": "stream",
          "name": "stdout",
          "text": [
            "[[101.38999999999999, 0.14142135623730953], [124.44, 0.14142135623730953], [70.71000000000001, 0.14142135623730953], [116.83000000000001, 0.14142135623730953]]\n"
          ]
        }
      ]
    }
  ]
}